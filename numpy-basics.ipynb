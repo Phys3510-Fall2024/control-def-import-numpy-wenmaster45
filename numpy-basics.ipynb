{
 "cells": [
  {
   "cell_type": "markdown",
   "id": "705ef592-5b7a-434e-ba0d-086e2bae16db",
   "metadata": {},
   "source": [
    "## Best Practices for Importing Packages\n",
    "\n",
    "In Python, importing packages like `numpy` is currently essential for mathematical and scientific computing. \n",
    "\n",
    "It's important to follow best practices for importing and using packages efficiently.\n",
    "\n",
    "### 1. Standard Importing\n",
    "\n",
    "`numpy` is commonly imported with an alias (`np`) to simplify function calls.\n",
    "\n",
    "#### Best Practice:\n",
    "\n",
    "You can import `numpy` or its submodules or functions with the following approaches\n",
    "\n",
    "```python\n",
    "import numpy as np # RECOMMENDED. accesses all of numpy's submodules and functions. call these functions with np.[submodule/function]\n",
    "```\n",
    "\n",
    "This convention (`np`) is widely used and makes your code cleaner and easier to read, especially for others who may be familiar with `numpy`.\n",
    "\n",
    "### 2. Selective Importing\n",
    "\n",
    "```python\n",
    "from numpy import array, dot # import only specific functions\n",
    "```\n",
    "\n",
    "If you only need specific functions from `numpy`, import them directly to reduce namespace pollution. This can also make your code more efficient in some cases. The problem is that it requires you to be familiar with the submodules and functions in `numpy`, which we are still learning.\n",
    "\n",
    "### 3. Avoid import *\n",
    "\n",
    "While importing everything using `import *` might seem convenient, it can clutter the namespace and lead to conflicts with other libraries or functions. It’s also less clear which functions come from `numpy`.\n",
    "\n",
    "```python\n",
    "from numpy import * # NOT RECOMMENDED. this accesses all of numpy's submodules and functions, but the functions and submodules could potentially overwrite other loaded submodules and function\n",
    "```\n",
    "This practice makes your code harder to debug and understand and is **NOT RECOMMENDED.**"
   ]
  },
  {
   "cell_type": "markdown",
   "id": "7fdb3148-e8d8-4ca8-85bc-fea50738eeb5",
   "metadata": {},
   "source": [
    "## Using Built-in Python Tools to Explore numpy\n",
    "\n",
    "To learn more about numpy functions or objects, you can use Python’s built-in tools, which we have already played with, like `dir()`, `help()`.\n",
    "\n",
    "### 1. `dir()` – List Available Functions and Attributes\n",
    "\n",
    "The dir() function can be used to see all the functions and attributes available in numpy. This is helpful for exploring what the package offers.\n",
    "\n",
    "#### Example:"
   ]
  },
  {
   "cell_type": "code",
   "execution_count": 1,
   "id": "ec8a07eb-8f6b-468e-8630-db31ddade776",
   "metadata": {},
   "outputs": [
    {
     "name": "stdout",
     "output_type": "stream",
     "text": [
      "['False_', 'ScalarType', 'True_', '_CopyMode', '_NoValue', '__NUMPY_SETUP__', '__all__', '__array_api_version__', '__builtins__', '__cached__', '__config__', '__dir__', '__doc__', '__expired_attributes__', '__file__', '__former_attrs__', '__future_scalars__', '__getattr__', '__loader__', '__name__', '__numpy_submodules__', '__package__', '__path__', '__spec__', '__version__', '_core', '_distributor_init', '_expired_attrs_2_0', '_get_promotion_state', '_globals', '_int_extended_msg', '_mat', '_msg', '_no_nep50_warning', '_pyinstaller_hooks_dir', '_pytesttester', '_set_promotion_state', '_specific_msg', '_type_info', '_typing', '_utils', 'abs', 'absolute', 'acos', 'acosh', 'add', 'all', 'allclose', 'amax', 'amin', 'angle', 'any', 'append', 'apply_along_axis', 'apply_over_axes', 'arange', 'arccos', 'arccosh', 'arcsin', 'arcsinh', 'arctan', 'arctan2', 'arctanh', 'argmax', 'argmin', 'argpartition', 'argsort', 'argwhere', 'around', 'array', 'array2string', 'array_equal', 'array_equiv', 'array_repr', 'array_split', 'array_str', 'asanyarray', 'asarray', 'asarray_chkfinite', 'ascontiguousarray', 'asfortranarray', 'asin', 'asinh', 'asmatrix', 'astype', 'atan', 'atan2', 'atanh', 'atleast_1d', 'atleast_2d', 'atleast_3d', 'average', 'bartlett', 'base_repr', 'binary_repr', 'bincount', 'bitwise_and', 'bitwise_count', 'bitwise_invert', 'bitwise_left_shift', 'bitwise_not', 'bitwise_or', 'bitwise_right_shift', 'bitwise_xor', 'blackman', 'block', 'bmat', 'bool', 'bool_', 'broadcast', 'broadcast_arrays', 'broadcast_shapes', 'broadcast_to', 'busday_count', 'busday_offset', 'busdaycalendar', 'byte', 'bytes_', 'c_', 'can_cast', 'cbrt', 'cdouble', 'ceil', 'char', 'character', 'choose', 'clip', 'clongdouble', 'column_stack', 'common_type', 'complex128', 'complex64', 'complexfloating', 'compress', 'concat', 'concatenate', 'conj', 'conjugate', 'convolve', 'copy', 'copysign', 'copyto', 'core', 'corrcoef', 'correlate', 'cos', 'cosh', 'count_nonzero', 'cov', 'cross', 'csingle', 'ctypeslib', 'cumprod', 'cumsum', 'datetime64', 'datetime_as_string', 'datetime_data', 'deg2rad', 'degrees', 'delete', 'diag', 'diag_indices', 'diag_indices_from', 'diagflat', 'diagonal', 'diff', 'digitize', 'divide', 'divmod', 'dot', 'double', 'dsplit', 'dstack', 'dtype', 'dtypes', 'e', 'ediff1d', 'einsum', 'einsum_path', 'emath', 'empty', 'empty_like', 'equal', 'errstate', 'euler_gamma', 'exceptions', 'exp', 'exp2', 'expand_dims', 'expm1', 'extract', 'eye', 'f2py', 'fabs', 'fft', 'fill_diagonal', 'finfo', 'fix', 'flatiter', 'flatnonzero', 'flexible', 'flip', 'fliplr', 'flipud', 'float16', 'float32', 'float64', 'float_power', 'floating', 'floor', 'floor_divide', 'fmax', 'fmin', 'fmod', 'format_float_positional', 'format_float_scientific', 'frexp', 'from_dlpack', 'frombuffer', 'fromfile', 'fromfunction', 'fromiter', 'frompyfunc', 'fromregex', 'fromstring', 'full', 'full_like', 'gcd', 'generic', 'genfromtxt', 'geomspace', 'get_include', 'get_printoptions', 'getbufsize', 'geterr', 'geterrcall', 'gradient', 'greater', 'greater_equal', 'half', 'hamming', 'hanning', 'heaviside', 'histogram', 'histogram2d', 'histogram_bin_edges', 'histogramdd', 'hsplit', 'hstack', 'hypot', 'i0', 'identity', 'iinfo', 'imag', 'in1d', 'index_exp', 'indices', 'inexact', 'inf', 'info', 'inner', 'insert', 'int16', 'int32', 'int64', 'int8', 'int_', 'intc', 'integer', 'interp', 'intersect1d', 'intp', 'invert', 'is_busday', 'isclose', 'iscomplex', 'iscomplexobj', 'isdtype', 'isfinite', 'isfortran', 'isin', 'isinf', 'isnan', 'isnat', 'isneginf', 'isposinf', 'isreal', 'isrealobj', 'isscalar', 'issubdtype', 'iterable', 'ix_', 'kaiser', 'kron', 'lcm', 'ldexp', 'left_shift', 'less', 'less_equal', 'lexsort', 'lib', 'linalg', 'linspace', 'little_endian', 'load', 'loadtxt', 'log', 'log10', 'log1p', 'log2', 'logaddexp', 'logaddexp2', 'logical_and', 'logical_not', 'logical_or', 'logical_xor', 'logspace', 'long', 'longdouble', 'longlong', 'ma', 'mask_indices', 'matmul', 'matrix', 'matrix_transpose', 'max', 'maximum', 'may_share_memory', 'mean', 'median', 'memmap', 'meshgrid', 'mgrid', 'min', 'min_scalar_type', 'minimum', 'mintypecode', 'mod', 'modf', 'moveaxis', 'multiply', 'nan', 'nan_to_num', 'nanargmax', 'nanargmin', 'nancumprod', 'nancumsum', 'nanmax', 'nanmean', 'nanmedian', 'nanmin', 'nanpercentile', 'nanprod', 'nanquantile', 'nanstd', 'nansum', 'nanvar', 'ndarray', 'ndenumerate', 'ndim', 'ndindex', 'nditer', 'negative', 'nested_iters', 'newaxis', 'nextafter', 'nonzero', 'not_equal', 'number', 'object_', 'ogrid', 'ones', 'ones_like', 'outer', 'packbits', 'pad', 'partition', 'percentile', 'permute_dims', 'pi', 'piecewise', 'place', 'poly', 'poly1d', 'polyadd', 'polyder', 'polydiv', 'polyfit', 'polyint', 'polymul', 'polynomial', 'polysub', 'polyval', 'positive', 'pow', 'power', 'printoptions', 'prod', 'promote_types', 'ptp', 'put', 'put_along_axis', 'putmask', 'quantile', 'r_', 'rad2deg', 'radians', 'random', 'ravel', 'ravel_multi_index', 'real', 'real_if_close', 'rec', 'recarray', 'reciprocal', 'record', 'remainder', 'repeat', 'require', 'reshape', 'resize', 'result_type', 'right_shift', 'rint', 'roll', 'rollaxis', 'roots', 'rot90', 'round', 'row_stack', 's_', 'save', 'savetxt', 'savez', 'savez_compressed', 'sctypeDict', 'searchsorted', 'select', 'set_printoptions', 'setbufsize', 'setdiff1d', 'seterr', 'seterrcall', 'setxor1d', 'shape', 'shares_memory', 'short', 'show_config', 'show_runtime', 'sign', 'signbit', 'signedinteger', 'sin', 'sinc', 'single', 'sinh', 'size', 'sort', 'sort_complex', 'spacing', 'split', 'sqrt', 'square', 'squeeze', 'stack', 'std', 'str_', 'strings', 'subtract', 'sum', 'swapaxes', 'take', 'take_along_axis', 'tan', 'tanh', 'tensordot', 'test', 'testing', 'tile', 'timedelta64', 'trace', 'transpose', 'trapezoid', 'trapz', 'tri', 'tril', 'tril_indices', 'tril_indices_from', 'trim_zeros', 'triu', 'triu_indices', 'triu_indices_from', 'true_divide', 'trunc', 'typecodes', 'typename', 'typing', 'ubyte', 'ufunc', 'uint', 'uint16', 'uint32', 'uint64', 'uint8', 'uintc', 'uintp', 'ulong', 'ulonglong', 'union1d', 'unique', 'unique_all', 'unique_counts', 'unique_inverse', 'unique_values', 'unpackbits', 'unravel_index', 'unsignedinteger', 'unwrap', 'ushort', 'vander', 'var', 'vdot', 'vecdot', 'vectorize', 'void', 'vsplit', 'vstack', 'where', 'zeros', 'zeros_like']\n"
     ]
    }
   ],
   "source": [
    "import numpy as np\n",
    "print(dir(np))  # Lists all functions and attributes in numpy (a bit overwhelming)"
   ]
  },
  {
   "cell_type": "markdown",
   "id": "9c033416-318b-4bdf-ac29-140cfde6e84a",
   "metadata": {},
   "source": [
    "This will output a long list of available functions and objects within the numpy module.\n",
    "### 2. help() – Detailed Documentation\n",
    "\n",
    "The `help()` function provides a description of the module or function, including usage, parameters, and examples.\n",
    "\n",
    "#### Example:"
   ]
  },
  {
   "cell_type": "code",
   "execution_count": 2,
   "id": "71e1da66-1ca1-41e0-af11-fb7c89e229d4",
   "metadata": {},
   "outputs": [
    {
     "name": "stdout",
     "output_type": "stream",
     "text": [
      "Help on built-in function array in module numpy:\n",
      "\n",
      "array(...)\n",
      "    array(object, dtype=None, *, copy=True, order='K', subok=False, ndmin=0,\n",
      "          like=None)\n",
      "    \n",
      "    Create an array.\n",
      "    \n",
      "    Parameters\n",
      "    ----------\n",
      "    object : array_like\n",
      "        An array, any object exposing the array interface, an object whose\n",
      "        ``__array__`` method returns an array, or any (nested) sequence.\n",
      "        If object is a scalar, a 0-dimensional array containing object is\n",
      "        returned.\n",
      "    dtype : data-type, optional\n",
      "        The desired data-type for the array. If not given, NumPy will try to use\n",
      "        a default ``dtype`` that can represent the values (by applying promotion\n",
      "        rules when necessary.)\n",
      "    copy : bool, optional\n",
      "        If ``True`` (default), then the array data is copied. If ``None``,\n",
      "        a copy will only be made if ``__array__`` returns a copy, if obj is\n",
      "        a nested sequence, or if a copy is needed to satisfy any of the other\n",
      "        requirements (``dtype``, ``order``, etc.). Note that any copy of\n",
      "        the data is shallow, i.e., for arrays with object dtype, the new\n",
      "        array will point to the same objects. See Examples for `ndarray.copy`.\n",
      "        For ``False`` it raises a ``ValueError`` if a copy cannot be avoided.\n",
      "        Default: ``True``.\n",
      "    order : {'K', 'A', 'C', 'F'}, optional\n",
      "        Specify the memory layout of the array. If object is not an array, the\n",
      "        newly created array will be in C order (row major) unless 'F' is\n",
      "        specified, in which case it will be in Fortran order (column major).\n",
      "        If object is an array the following holds.\n",
      "    \n",
      "        ===== ========= ===================================================\n",
      "        order  no copy                     copy=True\n",
      "        ===== ========= ===================================================\n",
      "        'K'   unchanged F & C order preserved, otherwise most similar order\n",
      "        'A'   unchanged F order if input is F and not C, otherwise C order\n",
      "        'C'   C order   C order\n",
      "        'F'   F order   F order\n",
      "        ===== ========= ===================================================\n",
      "    \n",
      "        When ``copy=None`` and a copy is made for other reasons, the result is\n",
      "        the same as if ``copy=True``, with some exceptions for 'A', see the\n",
      "        Notes section. The default order is 'K'.\n",
      "    subok : bool, optional\n",
      "        If True, then sub-classes will be passed-through, otherwise\n",
      "        the returned array will be forced to be a base-class array (default).\n",
      "    ndmin : int, optional\n",
      "        Specifies the minimum number of dimensions that the resulting\n",
      "        array should have.  Ones will be prepended to the shape as\n",
      "        needed to meet this requirement.\n",
      "    like : array_like, optional\n",
      "        Reference object to allow the creation of arrays which are not\n",
      "        NumPy arrays. If an array-like passed in as ``like`` supports\n",
      "        the ``__array_function__`` protocol, the result will be defined\n",
      "        by it. In this case, it ensures the creation of an array object\n",
      "        compatible with that passed in via this argument.\n",
      "    \n",
      "        .. versionadded:: 1.20.0\n",
      "    \n",
      "    Returns\n",
      "    -------\n",
      "    out : ndarray\n",
      "        An array object satisfying the specified requirements.\n",
      "    \n",
      "    See Also\n",
      "    --------\n",
      "    empty_like : Return an empty array with shape and type of input.\n",
      "    ones_like : Return an array of ones with shape and type of input.\n",
      "    zeros_like : Return an array of zeros with shape and type of input.\n",
      "    full_like : Return a new array with shape of input filled with value.\n",
      "    empty : Return a new uninitialized array.\n",
      "    ones : Return a new array setting values to one.\n",
      "    zeros : Return a new array setting values to zero.\n",
      "    full : Return a new array of given shape filled with value.\n",
      "    copy: Return an array copy of the given object.\n",
      "    \n",
      "    \n",
      "    Notes\n",
      "    -----\n",
      "    When order is 'A' and ``object`` is an array in neither 'C' nor 'F' order,\n",
      "    and a copy is forced by a change in dtype, then the order of the result is\n",
      "    not necessarily 'C' as expected. This is likely a bug.\n",
      "    \n",
      "    Examples\n",
      "    --------\n",
      "    >>> np.array([1, 2, 3])\n",
      "    array([1, 2, 3])\n",
      "    \n",
      "    Upcasting:\n",
      "    \n",
      "    >>> np.array([1, 2, 3.0])\n",
      "    array([ 1.,  2.,  3.])\n",
      "    \n",
      "    More than one dimension:\n",
      "    \n",
      "    >>> np.array([[1, 2], [3, 4]])\n",
      "    array([[1, 2],\n",
      "           [3, 4]])\n",
      "    \n",
      "    Minimum dimensions 2:\n",
      "    \n",
      "    >>> np.array([1, 2, 3], ndmin=2)\n",
      "    array([[1, 2, 3]])\n",
      "    \n",
      "    Type provided:\n",
      "    \n",
      "    >>> np.array([1, 2, 3], dtype=complex)\n",
      "    array([ 1.+0.j,  2.+0.j,  3.+0.j])\n",
      "    \n",
      "    Data-type consisting of more than one element:\n",
      "    \n",
      "    >>> x = np.array([(1,2),(3,4)],dtype=[('a','<i4'),('b','<i4')])\n",
      "    >>> x['a']\n",
      "    array([1, 3])\n",
      "    \n",
      "    Creating an array from sub-classes:\n",
      "    \n",
      "    >>> np.array(np.asmatrix('1 2; 3 4'))\n",
      "    array([[1, 2],\n",
      "           [3, 4]])\n",
      "    \n",
      "    >>> np.array(np.asmatrix('1 2; 3 4'), subok=True)\n",
      "    matrix([[1, 2],\n",
      "            [3, 4]])\n",
      "\n"
     ]
    }
   ],
   "source": [
    "help(np.array)  # Get detailed documentation about the array function"
   ]
  },
  {
   "cell_type": "markdown",
   "id": "3b9ba800-a3a3-4f8f-84a3-dce4d99ff133",
   "metadata": {},
   "source": [
    "This will give you detailed information about how the `np.array()` function works, along with its parameters and examples.\n",
    "\n",
    "#### Example:"
   ]
  },
  {
   "cell_type": "code",
   "execution_count": null,
   "id": "c764cc78-cfd1-453f-aac2-571305316049",
   "metadata": {},
   "outputs": [],
   "source": [
    "help(np.linalg)  # Get detailed documentation about the linalg submodule"
   ]
  },
  {
   "cell_type": "markdown",
   "id": "24924f67-133d-45ec-b34d-7a21d2d0db56",
   "metadata": {},
   "source": [
    "This will give you detailed information about how the `np.linalg` submodule.\n",
    "\n",
    "#### Example:"
   ]
  },
  {
   "cell_type": "code",
   "execution_count": null,
   "id": "95426648-fcf4-43a1-a2d3-cbdbfc6a083d",
   "metadata": {},
   "outputs": [],
   "source": [
    "help(np.linalg.eig)  # Get detailed documentation about the linalg.eig submodule"
   ]
  },
  {
   "cell_type": "markdown",
   "id": "8b90a78b-c9af-4c59-b9e5-3dc2234fe2f8",
   "metadata": {},
   "source": [
    "## Introduction to Linear Algebra with numpy\n",
    "\n",
    "While Python lists can be used to represent vectors and matrices, `numpy` provides a more efficient and intuitive way to perform linear algebra operations.\n",
    "\n",
    "In this section, we will introduce the main matrix operations in `numpy`, compare them with native Python `list` operations, and see why `numpy` is the preferred tool for linear algebra."
   ]
  },
  {
   "cell_type": "markdown",
   "id": "de382b93-d1a1-4ba1-915d-9584ad7f3549",
   "metadata": {},
   "source": [
    "### Creating Vectors and Matrices in Python and numpy\n",
    "\n",
    "In Python, you can create vectors and matrices using lists or nested lists. However, performing mathematical operations like addition, multiplication, or dot products can be cumbersome.\n",
    "\n",
    "`numpy` simplifies this by providing the array object, which represents vectors and matrices and allows for efficient mathematical operations.\n",
    "\n",
    "#### Creating Vectors and Matrices with Lists (Native Python)"
   ]
  },
  {
   "cell_type": "code",
   "execution_count": 3,
   "id": "efedaa73-99a5-4865-be23-a2deee4e99dc",
   "metadata": {},
   "outputs": [
    {
     "name": "stdout",
     "output_type": "stream",
     "text": [
      "Vector: [1, 2, 3]\n",
      "Matrix: [[1, 2], [3, 4]]\n"
     ]
    }
   ],
   "source": [
    "# Creating a vector and a matrix using lists (Native Python)\n",
    "vector = [1, 2, 3]  # A simple vector\n",
    "matrix = [[1, 2], [3, 4]]  # A 2x2 matrix\n",
    "\n",
    "# Displaying the vector and matrix\n",
    "print(\"Vector:\", vector)\n",
    "print(\"Matrix:\", matrix)\n"
   ]
  },
  {
   "cell_type": "markdown",
   "id": "71764c36-7541-4320-8ea2-fa6385e5a663",
   "metadata": {},
   "source": [
    "### Creating Vectors and Matrices with `numpy`"
   ]
  },
  {
   "cell_type": "code",
   "execution_count": 5,
   "id": "835b5d2b-f284-4453-8721-d20abcceaed5",
   "metadata": {},
   "outputs": [
    {
     "name": "stdout",
     "output_type": "stream",
     "text": [
      "Numpy Vector:\n",
      " [1 2 3]\n",
      "Numpy Matrix:\n",
      " [[1 2]\n",
      " [3 4]]\n"
     ]
    }
   ],
   "source": [
    "import numpy as np\n",
    "\n",
    "# Creating a vector and a matrix using numpy arrays\n",
    "vector_np = np.array([1, 2, 3])\n",
    "matrix_np = np.array([[1, 2], [3, 4]])\n",
    "\n",
    "# Displaying the numpy vector and matrix\n",
    "print(\"Numpy Vector:\\n\", vector_np)\n",
    "print(\"Numpy Matrix:\\n\", matrix_np)\n"
   ]
  },
  {
   "cell_type": "markdown",
   "id": "a7a2261d-8e35-4b7a-8411-3682087cdacf",
   "metadata": {},
   "source": [
    "### Matrix Operations: Native Python vs `numpy`\n",
    "\n",
    "In native Python, performing operations like addition, multiplication, or dot products on lists requires explicit loops or list comprehensions. `numpy` allows you to perform these operations directly on arrays, making the code more concise and efficient.\n",
    "#### Common Matrix Operations:\n",
    "\n",
    "    Addition: Adding two matrices.\n",
    "    Matrix Multiplication: Multiplying two matrices.\n",
    "    Dot Product: Computing the dot product of two vectors.\n",
    "\n",
    "#### Addition: Native Python vs `numpy`"
   ]
  },
  {
   "cell_type": "code",
   "execution_count": 6,
   "id": "a29d2865-e641-4587-9ead-2176c1ea0bbb",
   "metadata": {},
   "outputs": [
    {
     "name": "stdout",
     "output_type": "stream",
     "text": [
      "The + operation actually concatenates these matrices:\n",
      " [[1, 2], [3, 4], [5, 6], [7, 8]]\n",
      "Matrix Addition (Numpy):\n",
      " [[ 6  8]\n",
      " [10 12]]\n"
     ]
    }
   ],
   "source": [
    "# Matrix Addition with Native Python\n",
    "matrix1 = [[1, 2], [3, 4]]\n",
    "matrix2 = [[5, 6], [7, 8]]\n",
    "\n",
    "# Manually adding two matrices (native Python)\n",
    "result_matrix = matrix1 + matrix2\n",
    "print(\"The + operation actually concatenates these matrices:\\n\", result_matrix)\n",
    "\n",
    "# Matrix Addition with numpy\n",
    "matrix1_np = np.array([[1, 2], [3, 4]])\n",
    "matrix2_np = np.array([[5, 6], [7, 8]])\n",
    "\n",
    "result_matrix_np = matrix1_np + matrix2_np  # Numpy handles matrix addition directly\n",
    "print(\"Matrix Addition (Numpy):\\n\", result_matrix_np)\n"
   ]
  },
  {
   "cell_type": "markdown",
   "id": "664238ab-1d6d-4615-8175-87f5f01216ba",
   "metadata": {},
   "source": [
    "### Matrix Multiplication in `numpy`\n",
    "\n",
    "**You'll need to comment out the native python lines. They won't work**"
   ]
  },
  {
   "cell_type": "code",
   "execution_count": 7,
   "id": "a4d71d45-940b-458a-9623-167499a94347",
   "metadata": {},
   "outputs": [
    {
     "ename": "TypeError",
     "evalue": "can't multiply sequence by non-int of type 'list'",
     "output_type": "error",
     "traceback": [
      "\u001b[1;31m---------------------------------------------------------------------------\u001b[0m",
      "\u001b[1;31mTypeError\u001b[0m                                 Traceback (most recent call last)",
      "Cell \u001b[1;32mIn[7], line 6\u001b[0m\n\u001b[0;32m      3\u001b[0m matrix2 \u001b[38;5;241m=\u001b[39m [[\u001b[38;5;241m5\u001b[39m, \u001b[38;5;241m6\u001b[39m], [\u001b[38;5;241m7\u001b[39m, \u001b[38;5;241m8\u001b[39m]]\n\u001b[0;32m      5\u001b[0m \u001b[38;5;66;03m# Manually performing matrix multiplication (nested loops)\u001b[39;00m\n\u001b[1;32m----> 6\u001b[0m result_matrix \u001b[38;5;241m=\u001b[39m \u001b[43mmatrix1\u001b[49m\u001b[43m \u001b[49m\u001b[38;5;241;43m*\u001b[39;49m\u001b[43m \u001b[49m\u001b[43mmatrix2\u001b[49m\n\u001b[0;32m      7\u001b[0m \u001b[38;5;28mprint\u001b[39m(\u001b[38;5;124m\"\u001b[39m\u001b[38;5;124mMatrix Multiplication (Native Python):\u001b[39m\u001b[38;5;130;01m\\n\u001b[39;00m\u001b[38;5;124m\"\u001b[39m, result_matrix)\n\u001b[0;32m      9\u001b[0m \u001b[38;5;66;03m# Matrix multiplication with numpy\u001b[39;00m\n",
      "\u001b[1;31mTypeError\u001b[0m: can't multiply sequence by non-int of type 'list'"
     ]
    }
   ],
   "source": [
    "# Matrix multiplication with Native Python\n",
    "matrix1 = [[1, 2], [3, 4]]\n",
    "matrix2 = [[5, 6], [7, 8]]\n",
    "\n",
    "# Manually performing matrix multiplication (nested loops)\n",
    "result_matrix = matrix1 * matrix2\n",
    "print(\"Matrix Multiplication (Native Python):\\n\", result_matrix)\n",
    "\n",
    "# Matrix multiplication with numpy\n",
    "matrix1_np = np.array([[1, 2], [3, 4]])\n",
    "matrix2_np = np.array([[5, 6], [7, 8]])\n",
    "\n",
    "result_matrix_np = np.dot(matrix1_np, matrix2_np)  # Numpy uses dot() for matrix multiplication\n",
    "print(\"Matrix Multiplication (Numpy):\\n\", result_matrix_np)\n"
   ]
  },
  {
   "cell_type": "markdown",
   "id": "0339e9b2-5234-4a30-89f8-a36a6f13f024",
   "metadata": {},
   "source": [
    "### Dot Product in `numpy`"
   ]
  },
  {
   "cell_type": "code",
   "execution_count": null,
   "id": "71ff4af2-f433-4814-843d-afc10e842430",
   "metadata": {},
   "outputs": [],
   "source": [
    "# Dot product with numpy\n",
    "vector1_np = np.array([1, 2, 3])\n",
    "vector2_np = np.array([4, 5, 6])\n",
    "\n",
    "dot_product_np = np.dot(vector1_np, vector2_np)  # Numpy handles dot product directly\n",
    "print(\"Dot Product (Numpy):\", dot_product_np)"
   ]
  },
  {
   "cell_type": "markdown",
   "id": "dc51614a-3497-438b-a40f-981ff9946c76",
   "metadata": {},
   "source": [
    "## Common numpy Operations and Linear Algebra Tools\n",
    "\n",
    "`numpy` is not only great for working with arrays, but it also provides powerful linear algebra capabilities through the `numpy.linalg` module. Here are some of the most common `numpy` operations for matrices and arrays, as well as key linear algebra functions like determinants, matrix inversion, and solving linear systems.\n",
    "\n",
    "### Common numpy Operations for Arrays and Matrices\n",
    "\n",
    "`numpy` offers a wide variety of functions that allow for easy manipulation of arrays and matrices. Some of the most common operations include:\n",
    "#### 1. Array Creation\n",
    "\n",
    "*    `np.array()`: Create an array from a list or nested list.\n",
    "*    `np.zeros()`: Create an array of all zeros.\n",
    "*    `np.ones()`: Create an array of all ones.\n",
    "*    `np.eye()`: Create an identity matrix.\n",
    "\n",
    "#### 2. Element-wise Operations\n",
    "\n",
    "*    `+`, `-`, `*`, `/`: Basic arithmetic operations are applied element-wise between two arrays.\n",
    "*    `np.sqrt()`: Calculate the square root of each element in an array.\n",
    "*    `np.exp()`: Exponentiate each element in the array.\n",
    "\n",
    "#### 3. Statistical Functions\n",
    "\n",
    "*    `np.sum()`: Compute the sum of array elements.\n",
    "*    `np.mean()`: Compute the mean (average) of array elements.\n",
    "*    `np.std()`: Compute the standard deviation.\n",
    "\n",
    "#### 4. Matrix Operations\n",
    "\n",
    "*    `np.transpose()`: Transpose of a matrix (swap rows and columns). You can also use `A.T` for a matrix A\n",
    "*    `np.conjugate()`: Conjugate of a matrix. Use `.conj().T` or `np.conjugate(array).T` for the conjugate-transpose/Hermitian conjugate\n",
    "*    `np.dot()`: Matrix multiplication or dot product.\n",
    "*    `@`: Matrix multiplication or dot product.\n",
    "\n",
    "### Examples of Common Array Operations"
   ]
  },
  {
   "cell_type": "code",
   "execution_count": null,
   "id": "3f8c12d7-4e9c-4cc8-94ec-7fd7b9457d38",
   "metadata": {},
   "outputs": [],
   "source": [
    "import numpy as np\n",
    "\n",
    "# Create a matrix (2D array)\n",
    "matrix = np.array([[1, 2], [3, 4]])\n",
    "\n",
    "# Create some special arrays\n",
    "zeros_matrix = np.zeros((2, 2))  # A 2x2 matrix of zeros\n",
    "ones_matrix = np.ones((2, 3))    # A 2x3 matrix of ones\n",
    "identity_matrix = np.eye(3)      # A 3x3 identity matrix\n",
    "\n",
    "# Perform element-wise operations\n",
    "elementwise_addition = matrix + np.array([[5, 6], [7, 8]])  # Element-wise addition\n",
    "elementwise_multiplication = matrix * 2  # Element-wise multiplication by 2\n",
    "elementwise_sqrt = np.sqrt(matrix)  # Element-wise square root\n",
    "\n",
    "# Print the results\n",
    "print(\"Matrix:\\n\", matrix)\n",
    "print(\"\\nZeros Matrix:\\n\", zeros_matrix)\n",
    "print(\"\\nOnes Matrix:\\n\", ones_matrix)\n",
    "print(\"\\nIdentity Matrix:\\n\", identity_matrix)\n",
    "print(\"\\nElement-wise Addition:\\n\", elementwise_addition)\n",
    "print(\"\\nElement-wise Multiplication by 2:\\n\", elementwise_multiplication)\n",
    "print(\"\\nElement-wise Square Root:\\n\", elementwise_sqrt)\n"
   ]
  },
  {
   "cell_type": "markdown",
   "id": "ca758afa-7583-4477-8a41-087502208639",
   "metadata": {},
   "source": [
    "### Linear Algebra with `numpy.linalg`\n",
    "\n",
    "`numpy` also provides a set of linear algebra functions through the `numpy.linalg` module, which makes it easy to perform complex matrix operations.\n",
    "\n",
    "#### 1. Matrix Inversion\n",
    "\n",
    "* `np.linalg.inv()`: Computes the inverse of a square matrix.\n",
    "\n",
    "#### 2. Determinants\n",
    "\n",
    "* `np.linalg.det()`: Computes the determinant of a matrix.\n",
    "\n",
    "#### 3. Eigenvalues and Eigenvectors\n",
    "\n",
    "* `np.linalg.eig()`: Computes the eigenvalues and eigenvectors of a matrix.\n",
    "\n",
    "#### 4. Solving Systems of Linear Equations\n",
    "\n",
    "* `np.linalg.solve()`: Solves the system of linear equations Ax = b for x.\n",
    "\n",
    "### Examples of Linear Algebra Operations"
   ]
  },
  {
   "cell_type": "code",
   "execution_count": null,
   "id": "5ec90d6a-bf5d-4dce-89fe-d82dacd67924",
   "metadata": {},
   "outputs": [],
   "source": [
    "import numpy as np\n",
    "\n",
    "# Create a 2x2 matrix\n",
    "matrix = np.array([[1, 2], [3, 4]])\n",
    "\n",
    "# Inverse of the matrix\n",
    "inverse_matrix = np.linalg.inv(matrix)\n",
    "\n",
    "# Determinant of the matrix\n",
    "determinant = np.linalg.det(matrix)\n",
    "\n",
    "# Eigenvalues and eigenvectors\n",
    "eigenvalues, eigenvectors = np.linalg.eig(matrix)\n",
    "\n",
    "# Solve the system Ax = b\n",
    "A = np.array([[3, 1], [1, 2]])\n",
    "b = np.array([9, 8])\n",
    "x = np.linalg.solve(A, b)\n",
    "\n",
    "# Print the results\n",
    "print(\"Matrix:\\n\", matrix)\n",
    "print(\"\\nInverse of the Matrix:\\n\", inverse_matrix)\n",
    "print(\"\\nDeterminant of the Matrix:\\n\", determinant)\n",
    "print(\"\\nEigenvalues:\\n\", eigenvalues)\n",
    "print(\"\\nEigenvectors:\\n\", eigenvectors)\n",
    "print(\"\\nSolution to the system Ax = b:\\n\", x)\n"
   ]
  },
  {
   "cell_type": "code",
   "execution_count": null,
   "id": "aed80e28-6342-47aa-bc5e-559f5a44c31b",
   "metadata": {},
   "outputs": [],
   "source": []
  }
 ],
 "metadata": {
  "kernelspec": {
   "display_name": "Python 3 (ipykernel)",
   "language": "python",
   "name": "python3"
  },
  "language_info": {
   "codemirror_mode": {
    "name": "ipython",
    "version": 3
   },
   "file_extension": ".py",
   "mimetype": "text/x-python",
   "name": "python",
   "nbconvert_exporter": "python",
   "pygments_lexer": "ipython3",
   "version": "3.9.19"
  }
 },
 "nbformat": 4,
 "nbformat_minor": 5
}
