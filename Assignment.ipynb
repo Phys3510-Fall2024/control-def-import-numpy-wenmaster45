{
 "cells": [
  {
   "cell_type": "code",
   "execution_count": 1,
   "id": "e405ac42-682d-4005-bc52-ed49a4dc4937",
   "metadata": {},
   "outputs": [],
   "source": [
    "import numpy as np"
   ]
  },
  {
   "cell_type": "code",
   "execution_count": null,
   "id": "170326ea-88d5-48f2-a916-d9d38651096c",
   "metadata": {},
   "outputs": [],
   "source": [
    "a= [1,0,0]\n",
    "b= [0,1,0]\n",
    "c= [0,0,1]\n",
    "\n",
    "\n",
    "\n",
    "Identity = np.array(\n",
    "         [[ 1, 0, 0]\n",
    "         ,[ 0, 1, 0]\n",
    "         ,[ 0, 0, 1]]\n",
    ")\n",
    "\n",
    "Inversion = np.array(\n",
    "            [[-1,0,0]\n",
    "            ,[0,-1,0]\n",
    "            ,[0,0,-1]]\n",
    ")\n",
    "\n",
    "mirror_z = np.array([\n",
    "        [1,  0,  0],\n",
    "        [0,  1,  0],\n",
    "        [0,  0, -1]\n",
    "    ])\n",
    "\n",
    "mirror_y = np.array([\n",
    "        [-1, 0,  0],\n",
    "        [ 0, 1,  0],\n",
    "        [ 0, 0,  1]\n",
    "    ])\n",
    "\n",
    "rotation_180 = np.array([\n",
    "        [ 1,  0,  0],\n",
    "        [ 0, -1,  0],\n",
    "        [ 0,  0, -1]\n",
    "    ])\n",
    "\n",
    "             \n",
    "\n"
   ]
  },
  {
   "cell_type": "markdown",
   "id": "36a3d644-4f91-4dd3-8053-61cf545571c0",
   "metadata": {},
   "source": [
    "|               |        | Identity  | Vertical Mirror/Inversion | Horizontal Mirror | 180-degree Rotation |                         |\n",
    "|---------------|--------|-----------|--------------------------|-------------------|----------------------|-------------------------|\n",
    "| Object        | Symbol | $E$       | $m_z$                    | $m_y$             | $C_{2y}$             | Example                 |\n",
    "| Scalar        | $N$  | 1         | 1                        | 1                 | 1                    | $\\vec{c} \\cdot \\vec{c}$  |\n",
    "| Polar Vector  | $P$  | 1         | -1                       | 1                 | -1                   | $\\vec{c}$               |\n",
    "| Axial Vector  | $G$  | 1         | 1                        | -1                | -1                   | $\\vec{a} \\times \\vec{b}$ |\n",
    "| Pseudoscalar  | $C$  | 1         | -1                       | -1                | 1                    | $(\\vec{a} \\times \\vec{b}) \\cdot \\vec{c}$ |\n"
   ]
  },
  {
   "cell_type": "code",
   "execution_count": null,
   "id": "673c633a-9c34-48e0-9718-6e0f14050817",
   "metadata": {},
   "outputs": [],
   "source": []
  }
 ],
 "metadata": {
  "kernelspec": {
   "display_name": "Python 3 (ipykernel)",
   "language": "python",
   "name": "python3"
  },
  "language_info": {
   "codemirror_mode": {
    "name": "ipython",
    "version": 3
   },
   "file_extension": ".py",
   "mimetype": "text/x-python",
   "name": "python",
   "nbconvert_exporter": "python",
   "pygments_lexer": "ipython3",
   "version": "3.9.19"
  }
 },
 "nbformat": 4,
 "nbformat_minor": 5
}
